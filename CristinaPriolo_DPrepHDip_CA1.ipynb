{
 "cells": [
  {
   "cell_type": "markdown",
   "id": "45568ed2",
   "metadata": {},
   "source": [
    "# Cristina Priolo SBA 23037\n"
   ]
  },
  {
   "cell_type": "markdown",
   "id": "aa276579",
   "metadata": {},
   "source": [
    "# Characterization of the Dataset:\n",
    "\n",
    "The first part of the assignment is to find the characterisation of the data set: size; number of attributes; has/does not have missing values, number of observations etc. and what these Characterisation mean.\n",
    "\n",
    "In order to analize this I need to import the dataset with the help of the libraries:"
   ]
  },
  {
   "cell_type": "code",
   "execution_count": 1,
   "id": "4c58a79c",
   "metadata": {},
   "outputs": [],
   "source": [
    "import pandas as pd\n",
    "%matplotlib inline\n",
    "import numpy as np\n",
    "import matplotlib.pyplot as plt\n",
    "import seaborn as sns\n",
    "sns.set()"
   ]
  },
  {
   "cell_type": "code",
   "execution_count": 2,
   "id": "a3daa13c",
   "metadata": {},
   "outputs": [],
   "source": [
    "aps_df= pd.read_csv(\"aps_failure_set.csv\")"
   ]
  },
  {
   "cell_type": "markdown",
   "id": "6eb0d202",
   "metadata": {},
   "source": [
    "Now that I have imported the dataset I start analyzing it to find the specifications to do so I need to see what are:\n",
    "\n",
    "- the info of the dataset \n",
    "- the description of the dataset\n",
    "- the number of rows and columns \n",
    "- the number of object integers and floats in the dataset"
   ]
  },
  {
   "cell_type": "code",
   "execution_count": 3,
   "id": "17ad903e",
   "metadata": {},
   "outputs": [
    {
     "data": {
      "text/plain": [
       "(60000, 171)"
      ]
     },
     "execution_count": 3,
     "metadata": {},
     "output_type": "execute_result"
    }
   ],
   "source": [
    "aps_df.shape"
   ]
  },
  {
   "cell_type": "code",
   "execution_count": 4,
   "id": "bab0873c",
   "metadata": {},
   "outputs": [
    {
     "name": "stdout",
     "output_type": "stream",
     "text": [
      "<class 'pandas.core.frame.DataFrame'>\n",
      "RangeIndex: 60000 entries, 0 to 59999\n",
      "Columns: 171 entries, class to eg_000\n",
      "dtypes: int64(1), object(170)\n",
      "memory usage: 78.3+ MB\n"
     ]
    }
   ],
   "source": [
    "aps_df.info()"
   ]
  },
  {
   "cell_type": "code",
   "execution_count": 5,
   "id": "10643d75",
   "metadata": {},
   "outputs": [
    {
     "data": {
      "text/plain": [
       "class     object\n",
       "aa_000     int64\n",
       "ab_000    object\n",
       "ac_000    object\n",
       "ad_000    object\n",
       "           ...  \n",
       "ee_007    object\n",
       "ee_008    object\n",
       "ee_009    object\n",
       "ef_000    object\n",
       "eg_000    object\n",
       "Length: 171, dtype: object"
      ]
     },
     "execution_count": 5,
     "metadata": {},
     "output_type": "execute_result"
    }
   ],
   "source": [
    "aps_df.dtypes"
   ]
  },
  {
   "cell_type": "code",
   "execution_count": 6,
   "id": "06ffc400",
   "metadata": {},
   "outputs": [
    {
     "name": "stdout",
     "output_type": "stream",
     "text": [
      "The data set has 60000 rows and 171 columns\n"
     ]
    },
    {
     "data": {
      "text/html": [
       "<div>\n",
       "<style scoped>\n",
       "    .dataframe tbody tr th:only-of-type {\n",
       "        vertical-align: middle;\n",
       "    }\n",
       "\n",
       "    .dataframe tbody tr th {\n",
       "        vertical-align: top;\n",
       "    }\n",
       "\n",
       "    .dataframe thead th {\n",
       "        text-align: right;\n",
       "    }\n",
       "</style>\n",
       "<table border=\"1\" class=\"dataframe\">\n",
       "  <thead>\n",
       "    <tr style=\"text-align: right;\">\n",
       "      <th></th>\n",
       "      <th>aa_000</th>\n",
       "    </tr>\n",
       "  </thead>\n",
       "  <tbody>\n",
       "    <tr>\n",
       "      <th>count</th>\n",
       "      <td>6.000000e+04</td>\n",
       "    </tr>\n",
       "    <tr>\n",
       "      <th>mean</th>\n",
       "      <td>5.933650e+04</td>\n",
       "    </tr>\n",
       "    <tr>\n",
       "      <th>std</th>\n",
       "      <td>1.454301e+05</td>\n",
       "    </tr>\n",
       "    <tr>\n",
       "      <th>min</th>\n",
       "      <td>0.000000e+00</td>\n",
       "    </tr>\n",
       "    <tr>\n",
       "      <th>25%</th>\n",
       "      <td>8.340000e+02</td>\n",
       "    </tr>\n",
       "    <tr>\n",
       "      <th>50%</th>\n",
       "      <td>3.077600e+04</td>\n",
       "    </tr>\n",
       "    <tr>\n",
       "      <th>75%</th>\n",
       "      <td>4.866800e+04</td>\n",
       "    </tr>\n",
       "    <tr>\n",
       "      <th>max</th>\n",
       "      <td>2.746564e+06</td>\n",
       "    </tr>\n",
       "  </tbody>\n",
       "</table>\n",
       "</div>"
      ],
      "text/plain": [
       "             aa_000\n",
       "count  6.000000e+04\n",
       "mean   5.933650e+04\n",
       "std    1.454301e+05\n",
       "min    0.000000e+00\n",
       "25%    8.340000e+02\n",
       "50%    3.077600e+04\n",
       "75%    4.866800e+04\n",
       "max    2.746564e+06"
      ]
     },
     "metadata": {},
     "output_type": "display_data"
    },
    {
     "data": {
      "text/html": [
       "<div>\n",
       "<style scoped>\n",
       "    .dataframe tbody tr th:only-of-type {\n",
       "        vertical-align: middle;\n",
       "    }\n",
       "\n",
       "    .dataframe tbody tr th {\n",
       "        vertical-align: top;\n",
       "    }\n",
       "\n",
       "    .dataframe thead th {\n",
       "        text-align: right;\n",
       "    }\n",
       "</style>\n",
       "<table border=\"1\" class=\"dataframe\">\n",
       "  <thead>\n",
       "    <tr style=\"text-align: right;\">\n",
       "      <th></th>\n",
       "      <th>class</th>\n",
       "      <th>aa_000</th>\n",
       "      <th>ab_000</th>\n",
       "      <th>ac_000</th>\n",
       "      <th>ad_000</th>\n",
       "      <th>ae_000</th>\n",
       "      <th>af_000</th>\n",
       "      <th>ag_000</th>\n",
       "      <th>ag_001</th>\n",
       "      <th>ag_002</th>\n",
       "      <th>...</th>\n",
       "      <th>ee_002</th>\n",
       "      <th>ee_003</th>\n",
       "      <th>ee_004</th>\n",
       "      <th>ee_005</th>\n",
       "      <th>ee_006</th>\n",
       "      <th>ee_007</th>\n",
       "      <th>ee_008</th>\n",
       "      <th>ee_009</th>\n",
       "      <th>ef_000</th>\n",
       "      <th>eg_000</th>\n",
       "    </tr>\n",
       "  </thead>\n",
       "  <tbody>\n",
       "    <tr>\n",
       "      <th>0</th>\n",
       "      <td>neg</td>\n",
       "      <td>76698</td>\n",
       "      <td>na</td>\n",
       "      <td>2130706438</td>\n",
       "      <td>280</td>\n",
       "      <td>0</td>\n",
       "      <td>0</td>\n",
       "      <td>0</td>\n",
       "      <td>0</td>\n",
       "      <td>0</td>\n",
       "      <td>...</td>\n",
       "      <td>1240520</td>\n",
       "      <td>493384</td>\n",
       "      <td>721044</td>\n",
       "      <td>469792</td>\n",
       "      <td>339156</td>\n",
       "      <td>157956</td>\n",
       "      <td>73224</td>\n",
       "      <td>0</td>\n",
       "      <td>0</td>\n",
       "      <td>0</td>\n",
       "    </tr>\n",
       "    <tr>\n",
       "      <th>1</th>\n",
       "      <td>neg</td>\n",
       "      <td>33058</td>\n",
       "      <td>na</td>\n",
       "      <td>0</td>\n",
       "      <td>na</td>\n",
       "      <td>0</td>\n",
       "      <td>0</td>\n",
       "      <td>0</td>\n",
       "      <td>0</td>\n",
       "      <td>0</td>\n",
       "      <td>...</td>\n",
       "      <td>421400</td>\n",
       "      <td>178064</td>\n",
       "      <td>293306</td>\n",
       "      <td>245416</td>\n",
       "      <td>133654</td>\n",
       "      <td>81140</td>\n",
       "      <td>97576</td>\n",
       "      <td>1500</td>\n",
       "      <td>0</td>\n",
       "      <td>0</td>\n",
       "    </tr>\n",
       "    <tr>\n",
       "      <th>2</th>\n",
       "      <td>neg</td>\n",
       "      <td>41040</td>\n",
       "      <td>na</td>\n",
       "      <td>228</td>\n",
       "      <td>100</td>\n",
       "      <td>0</td>\n",
       "      <td>0</td>\n",
       "      <td>0</td>\n",
       "      <td>0</td>\n",
       "      <td>0</td>\n",
       "      <td>...</td>\n",
       "      <td>277378</td>\n",
       "      <td>159812</td>\n",
       "      <td>423992</td>\n",
       "      <td>409564</td>\n",
       "      <td>320746</td>\n",
       "      <td>158022</td>\n",
       "      <td>95128</td>\n",
       "      <td>514</td>\n",
       "      <td>0</td>\n",
       "      <td>0</td>\n",
       "    </tr>\n",
       "    <tr>\n",
       "      <th>3</th>\n",
       "      <td>neg</td>\n",
       "      <td>12</td>\n",
       "      <td>0</td>\n",
       "      <td>70</td>\n",
       "      <td>66</td>\n",
       "      <td>0</td>\n",
       "      <td>10</td>\n",
       "      <td>0</td>\n",
       "      <td>0</td>\n",
       "      <td>0</td>\n",
       "      <td>...</td>\n",
       "      <td>240</td>\n",
       "      <td>46</td>\n",
       "      <td>58</td>\n",
       "      <td>44</td>\n",
       "      <td>10</td>\n",
       "      <td>0</td>\n",
       "      <td>0</td>\n",
       "      <td>0</td>\n",
       "      <td>4</td>\n",
       "      <td>32</td>\n",
       "    </tr>\n",
       "    <tr>\n",
       "      <th>4</th>\n",
       "      <td>neg</td>\n",
       "      <td>60874</td>\n",
       "      <td>na</td>\n",
       "      <td>1368</td>\n",
       "      <td>458</td>\n",
       "      <td>0</td>\n",
       "      <td>0</td>\n",
       "      <td>0</td>\n",
       "      <td>0</td>\n",
       "      <td>0</td>\n",
       "      <td>...</td>\n",
       "      <td>622012</td>\n",
       "      <td>229790</td>\n",
       "      <td>405298</td>\n",
       "      <td>347188</td>\n",
       "      <td>286954</td>\n",
       "      <td>311560</td>\n",
       "      <td>433954</td>\n",
       "      <td>1218</td>\n",
       "      <td>0</td>\n",
       "      <td>0</td>\n",
       "    </tr>\n",
       "  </tbody>\n",
       "</table>\n",
       "<p>5 rows × 171 columns</p>\n",
       "</div>"
      ],
      "text/plain": [
       "  class  aa_000 ab_000      ac_000 ad_000 ae_000 af_000 ag_000 ag_001 ag_002  \\\n",
       "0   neg   76698     na  2130706438    280      0      0      0      0      0   \n",
       "1   neg   33058     na           0     na      0      0      0      0      0   \n",
       "2   neg   41040     na         228    100      0      0      0      0      0   \n",
       "3   neg      12      0          70     66      0     10      0      0      0   \n",
       "4   neg   60874     na        1368    458      0      0      0      0      0   \n",
       "\n",
       "   ...   ee_002  ee_003  ee_004  ee_005  ee_006  ee_007  ee_008 ee_009 ef_000  \\\n",
       "0  ...  1240520  493384  721044  469792  339156  157956   73224      0      0   \n",
       "1  ...   421400  178064  293306  245416  133654   81140   97576   1500      0   \n",
       "2  ...   277378  159812  423992  409564  320746  158022   95128    514      0   \n",
       "3  ...      240      46      58      44      10       0       0      0      4   \n",
       "4  ...   622012  229790  405298  347188  286954  311560  433954   1218      0   \n",
       "\n",
       "  eg_000  \n",
       "0      0  \n",
       "1      0  \n",
       "2      0  \n",
       "3     32  \n",
       "4      0  \n",
       "\n",
       "[5 rows x 171 columns]"
      ]
     },
     "metadata": {},
     "output_type": "display_data"
    },
    {
     "data": {
      "text/plain": [
       "object    170\n",
       "int64       1\n",
       "dtype: int64"
      ]
     },
     "metadata": {},
     "output_type": "display_data"
    }
   ],
   "source": [
    "print(\"The data set has {} rows and {} columns\".format(aps_df.shape[0], aps_df.shape[1]))\n",
    "display(aps_df.describe())\n",
    "display(aps_df.head())\n",
    "display(aps_df.dtypes.value_counts())"
   ]
  },
  {
   "cell_type": "markdown",
   "id": "fd08431d",
   "metadata": {},
   "source": [
    "<span style=\"color: red;\">The characterizations of the Data set are:</span>  \n",
    "\n",
    "- Size: 6000 rows and 171 columns\n",
    "- Number of attributes: 171 ( due that are the number of columns and the rows are the     attributes)\n",
    "- Number of Obeservations: 6000 ( due that are the number of rows and the rows are the Obsevation"
   ]
  },
  {
   "cell_type": "markdown",
   "id": "2f692010",
   "metadata": {},
   "source": [
    "# <header style=\"color:Darkgreen;\"> Checking for duplicate: </header>"
   ]
  },
  {
   "cell_type": "code",
   "execution_count": 7,
   "id": "5d591e40",
   "metadata": {},
   "outputs": [
    {
     "data": {
      "text/plain": [
       "0"
      ]
     },
     "execution_count": 7,
     "metadata": {},
     "output_type": "execute_result"
    }
   ],
   "source": [
    "aps_df.duplicated().sum() "
   ]
  },
  {
   "cell_type": "markdown",
   "id": "ef494bc5",
   "metadata": {},
   "source": [
    "<span style=\"color: red;\"> The duplicate are 0 </span>"
   ]
  },
  {
   "cell_type": "markdown",
   "id": "ffeb9b34",
   "metadata": {},
   "source": [
    "# Data Preparation/Evaluation methods and EDA:"
   ]
  },
  {
   "cell_type": "markdown",
   "id": "e4f75da2",
   "metadata": {},
   "source": [
    "I want to check if there are any missing values in each column of the dataset: "
   ]
  },
  {
   "cell_type": "code",
   "execution_count": 8,
   "id": "27eb1bef",
   "metadata": {},
   "outputs": [
    {
     "data": {
      "text/plain": [
       "class     0\n",
       "aa_000    0\n",
       "ab_000    0\n",
       "ac_000    0\n",
       "ad_000    0\n",
       "         ..\n",
       "ee_007    0\n",
       "ee_008    0\n",
       "ee_009    0\n",
       "ef_000    0\n",
       "eg_000    0\n",
       "Length: 171, dtype: int64"
      ]
     },
     "execution_count": 8,
     "metadata": {},
     "output_type": "execute_result"
    }
   ],
   "source": [
    "aps_df.isnull().sum()"
   ]
  },
  {
   "cell_type": "code",
   "execution_count": 9,
   "id": "1a8b776d",
   "metadata": {},
   "outputs": [
    {
     "data": {
      "text/plain": [
       "0"
      ]
     },
     "execution_count": 9,
     "metadata": {},
     "output_type": "execute_result"
    }
   ],
   "source": [
    "aps_df.isnull().sum().sum()"
   ]
  },
  {
   "cell_type": "markdown",
   "id": "3c5ae327",
   "metadata": {},
   "source": [
    "From here it looks like that none missing value are in the dataset but I want to check deeper so I will check in the column: "
   ]
  },
  {
   "cell_type": "code",
   "execution_count": 10,
   "id": "cf5d6879",
   "metadata": {},
   "outputs": [
    {
     "data": {
      "text/html": [
       "<div>\n",
       "<style scoped>\n",
       "    .dataframe tbody tr th:only-of-type {\n",
       "        vertical-align: middle;\n",
       "    }\n",
       "\n",
       "    .dataframe tbody tr th {\n",
       "        vertical-align: top;\n",
       "    }\n",
       "\n",
       "    .dataframe thead th {\n",
       "        text-align: right;\n",
       "    }\n",
       "</style>\n",
       "<table border=\"1\" class=\"dataframe\">\n",
       "  <thead>\n",
       "    <tr style=\"text-align: right;\">\n",
       "      <th></th>\n",
       "      <th>class</th>\n",
       "      <th>ab_000</th>\n",
       "      <th>ac_000</th>\n",
       "      <th>ad_000</th>\n",
       "      <th>ae_000</th>\n",
       "      <th>af_000</th>\n",
       "      <th>ag_000</th>\n",
       "      <th>ag_001</th>\n",
       "      <th>ag_002</th>\n",
       "      <th>ag_003</th>\n",
       "      <th>...</th>\n",
       "      <th>ee_002</th>\n",
       "      <th>ee_003</th>\n",
       "      <th>ee_004</th>\n",
       "      <th>ee_005</th>\n",
       "      <th>ee_006</th>\n",
       "      <th>ee_007</th>\n",
       "      <th>ee_008</th>\n",
       "      <th>ee_009</th>\n",
       "      <th>ef_000</th>\n",
       "      <th>eg_000</th>\n",
       "    </tr>\n",
       "  </thead>\n",
       "  <tbody>\n",
       "    <tr>\n",
       "      <th>count</th>\n",
       "      <td>60000</td>\n",
       "      <td>60000</td>\n",
       "      <td>60000</td>\n",
       "      <td>60000</td>\n",
       "      <td>60000</td>\n",
       "      <td>60000</td>\n",
       "      <td>60000</td>\n",
       "      <td>60000</td>\n",
       "      <td>60000</td>\n",
       "      <td>60000</td>\n",
       "      <td>...</td>\n",
       "      <td>60000</td>\n",
       "      <td>60000</td>\n",
       "      <td>60000</td>\n",
       "      <td>60000</td>\n",
       "      <td>60000</td>\n",
       "      <td>60000</td>\n",
       "      <td>60000</td>\n",
       "      <td>60000</td>\n",
       "      <td>60000</td>\n",
       "      <td>60000</td>\n",
       "    </tr>\n",
       "    <tr>\n",
       "      <th>unique</th>\n",
       "      <td>2</td>\n",
       "      <td>30</td>\n",
       "      <td>2062</td>\n",
       "      <td>1887</td>\n",
       "      <td>334</td>\n",
       "      <td>419</td>\n",
       "      <td>155</td>\n",
       "      <td>618</td>\n",
       "      <td>2423</td>\n",
       "      <td>7880</td>\n",
       "      <td>...</td>\n",
       "      <td>34489</td>\n",
       "      <td>31712</td>\n",
       "      <td>35189</td>\n",
       "      <td>36289</td>\n",
       "      <td>31796</td>\n",
       "      <td>30470</td>\n",
       "      <td>24214</td>\n",
       "      <td>9725</td>\n",
       "      <td>29</td>\n",
       "      <td>50</td>\n",
       "    </tr>\n",
       "    <tr>\n",
       "      <th>top</th>\n",
       "      <td>neg</td>\n",
       "      <td>na</td>\n",
       "      <td>0</td>\n",
       "      <td>na</td>\n",
       "      <td>0</td>\n",
       "      <td>0</td>\n",
       "      <td>0</td>\n",
       "      <td>0</td>\n",
       "      <td>0</td>\n",
       "      <td>0</td>\n",
       "      <td>...</td>\n",
       "      <td>0</td>\n",
       "      <td>0</td>\n",
       "      <td>0</td>\n",
       "      <td>0</td>\n",
       "      <td>0</td>\n",
       "      <td>0</td>\n",
       "      <td>0</td>\n",
       "      <td>0</td>\n",
       "      <td>0</td>\n",
       "      <td>0</td>\n",
       "    </tr>\n",
       "    <tr>\n",
       "      <th>freq</th>\n",
       "      <td>59000</td>\n",
       "      <td>46329</td>\n",
       "      <td>8752</td>\n",
       "      <td>14861</td>\n",
       "      <td>55543</td>\n",
       "      <td>55476</td>\n",
       "      <td>59133</td>\n",
       "      <td>58587</td>\n",
       "      <td>56181</td>\n",
       "      <td>46894</td>\n",
       "      <td>...</td>\n",
       "      <td>1364</td>\n",
       "      <td>1557</td>\n",
       "      <td>1797</td>\n",
       "      <td>2814</td>\n",
       "      <td>4458</td>\n",
       "      <td>7898</td>\n",
       "      <td>17280</td>\n",
       "      <td>31863</td>\n",
       "      <td>57021</td>\n",
       "      <td>56794</td>\n",
       "    </tr>\n",
       "  </tbody>\n",
       "</table>\n",
       "<p>4 rows × 170 columns</p>\n",
       "</div>"
      ],
      "text/plain": [
       "        class ab_000 ac_000 ad_000 ae_000 af_000 ag_000 ag_001 ag_002 ag_003  \\\n",
       "count   60000  60000  60000  60000  60000  60000  60000  60000  60000  60000   \n",
       "unique      2     30   2062   1887    334    419    155    618   2423   7880   \n",
       "top       neg     na      0     na      0      0      0      0      0      0   \n",
       "freq    59000  46329   8752  14861  55543  55476  59133  58587  56181  46894   \n",
       "\n",
       "        ... ee_002 ee_003 ee_004 ee_005 ee_006 ee_007 ee_008 ee_009 ef_000  \\\n",
       "count   ...  60000  60000  60000  60000  60000  60000  60000  60000  60000   \n",
       "unique  ...  34489  31712  35189  36289  31796  30470  24214   9725     29   \n",
       "top     ...      0      0      0      0      0      0      0      0      0   \n",
       "freq    ...   1364   1557   1797   2814   4458   7898  17280  31863  57021   \n",
       "\n",
       "       eg_000  \n",
       "count   60000  \n",
       "unique     50  \n",
       "top         0  \n",
       "freq    56794  \n",
       "\n",
       "[4 rows x 170 columns]"
      ]
     },
     "execution_count": 10,
     "metadata": {},
     "output_type": "execute_result"
    }
   ],
   "source": [
    "aps_df.describe(include =\"object\")"
   ]
  },
  {
   "cell_type": "markdown",
   "id": "9096b2ba",
   "metadata": {},
   "source": [
    "After I check the deeper in the columns of the dataset I can identify that \"ab_000 and \"ad_000\" have \"na\" in their columns so it means that they have missing values and they are categorical values and not numerical. For this reason I want to explore each column that I have spottet with \"na\" if there are unique to understand the scale of the data:"
   ]
  },
  {
   "cell_type": "code",
   "execution_count": 11,
   "id": "7e1536c3",
   "metadata": {},
   "outputs": [
    {
     "data": {
      "text/plain": [
       "array(['na', '0', '2', '4', '6', '8', '18', '10', '12', '16', '204', '24',\n",
       "       '134', '90', '26', '14', '34', '52', '20', '22', '30', '36', '100',\n",
       "       '48', '58', '32', '28', '44', '46', '68'], dtype=object)"
      ]
     },
     "execution_count": 11,
     "metadata": {},
     "output_type": "execute_result"
    }
   ],
   "source": [
    "aps_df[\"ab_000\"].unique()"
   ]
  },
  {
   "cell_type": "markdown",
   "id": "a2598bc0",
   "metadata": {},
   "source": [
    "Now that I checked for the missing value in the same column:"
   ]
  },
  {
   "cell_type": "code",
   "execution_count": 12,
   "id": "76260f06",
   "metadata": {},
   "outputs": [
    {
     "data": {
      "text/plain": [
       "0"
      ]
     },
     "execution_count": 12,
     "metadata": {},
     "output_type": "execute_result"
    }
   ],
   "source": [
    "aps_df[\"ab_000\"].isnull().sum()"
   ]
  },
  {
   "cell_type": "markdown",
   "id": "0e2246db",
   "metadata": {},
   "source": [
    "I will repeat the process for the column \"ad_000\":"
   ]
  },
  {
   "cell_type": "code",
   "execution_count": 13,
   "id": "e008f26b",
   "metadata": {},
   "outputs": [
    {
     "data": {
      "text/plain": [
       "array(['280', 'na', '100', ..., '5286', '3608', '194868'], dtype=object)"
      ]
     },
     "execution_count": 13,
     "metadata": {},
     "output_type": "execute_result"
    }
   ],
   "source": [
    "aps_df[\"ad_000\"].unique()"
   ]
  },
  {
   "cell_type": "code",
   "execution_count": 14,
   "id": "aafecb51",
   "metadata": {},
   "outputs": [
    {
     "data": {
      "text/plain": [
       "0"
      ]
     },
     "execution_count": 14,
     "metadata": {},
     "output_type": "execute_result"
    }
   ],
   "source": [
    "aps_df[\"ad_000\"].isnull().sum()"
   ]
  },
  {
   "cell_type": "markdown",
   "id": "939ba72b",
   "metadata": {},
   "source": [
    "I will identify now the missing values: "
   ]
  },
  {
   "cell_type": "code",
   "execution_count": 15,
   "id": "262f6ba2",
   "metadata": {},
   "outputs": [],
   "source": [
    "missing_values=[\"na\"]"
   ]
  },
  {
   "cell_type": "code",
   "execution_count": 16,
   "id": "402bf15c",
   "metadata": {},
   "outputs": [],
   "source": [
    "aps_df=pd.read_csv(\"aps_failure_set.csv\", na_values=missing_values)"
   ]
  },
  {
   "cell_type": "code",
   "execution_count": 17,
   "id": "7adab08e",
   "metadata": {},
   "outputs": [],
   "source": [
    "missing_values=aps_df.isnull().sum()"
   ]
  },
  {
   "cell_type": "code",
   "execution_count": 18,
   "id": "21947bae",
   "metadata": {},
   "outputs": [
    {
     "name": "stdout",
     "output_type": "stream",
     "text": [
      "class         0\n",
      "aa_000        0\n",
      "ab_000    46329\n",
      "ac_000     3335\n",
      "ad_000    14861\n",
      "          ...  \n",
      "ee_007      671\n",
      "ee_008      671\n",
      "ee_009      671\n",
      "ef_000     2724\n",
      "eg_000     2723\n",
      "Length: 171, dtype: int64\n"
     ]
    }
   ],
   "source": [
    "print(missing_values)"
   ]
  },
  {
   "cell_type": "markdown",
   "id": "1029b7a5",
   "metadata": {},
   "source": [
    "Now to keep going applying EDA and keep cleaning the data. To do it I will remove the columns where more than 10 % of the values are missing. The reason behond deciding the 10 % is because in class we have seen that if there is more than 10 % missing data we need to have a good reason to not drop it and at the moment we don't have one. "
   ]
  },
  {
   "cell_type": "code",
   "execution_count": 19,
   "id": "b4373415",
   "metadata": {},
   "outputs": [],
   "source": [
    "aps_df=aps_df.drop(aps_df.columns[aps_df.isnull().mean()>10])"
   ]
  },
  {
   "cell_type": "markdown",
   "id": "909db761",
   "metadata": {},
   "source": [
    "# <header style=\"color:Darkgreen;\"> Impute: </head>\n",
    "I need to fill the missing values based on another observation and in this case I took the median ( I have added an ignore warnign because I was having one when I do the median):"
   ]
  },
  {
   "cell_type": "code",
   "execution_count": 20,
   "id": "82833cbe",
   "metadata": {},
   "outputs": [],
   "source": [
    "import warnings\n",
    "warnings.filterwarnings('ignore')"
   ]
  },
  {
   "cell_type": "code",
   "execution_count": 21,
   "id": "d20524ad",
   "metadata": {},
   "outputs": [],
   "source": [
    "aps_df.fillna(aps_df.median(),inplace=True)\n"
   ]
  },
  {
   "cell_type": "code",
   "execution_count": 22,
   "id": "2725f9df",
   "metadata": {},
   "outputs": [
    {
     "data": {
      "text/plain": [
       "<bound method NDFrame.describe of       class  aa_000  ab_000        ac_000  ad_000  ae_000  af_000  ag_000  \\\n",
       "0       neg   76698     0.0  2.130706e+09   280.0     0.0     0.0     0.0   \n",
       "1       neg   33058     0.0  0.000000e+00   126.0     0.0     0.0     0.0   \n",
       "2       neg   41040     0.0  2.280000e+02   100.0     0.0     0.0     0.0   \n",
       "3       neg      12     0.0  7.000000e+01    66.0     0.0    10.0     0.0   \n",
       "4       neg   60874     0.0  1.368000e+03   458.0     0.0     0.0     0.0   \n",
       "...     ...     ...     ...           ...     ...     ...     ...     ...   \n",
       "59995   neg  153002     0.0  6.640000e+02   186.0     0.0     0.0     0.0   \n",
       "59996   neg    2286     0.0  2.130707e+09   224.0     0.0     0.0     0.0   \n",
       "59997   neg     112     0.0  2.130706e+09    18.0     0.0     0.0     0.0   \n",
       "59998   neg   80292     0.0  2.130706e+09   494.0     0.0     0.0     0.0   \n",
       "59999   neg   40222     0.0  6.980000e+02   628.0     0.0     0.0     0.0   \n",
       "\n",
       "       ag_001  ag_002  ...     ee_002    ee_003     ee_004     ee_005  \\\n",
       "0         0.0     0.0  ...  1240520.0  493384.0   721044.0   469792.0   \n",
       "1         0.0     0.0  ...   421400.0  178064.0   293306.0   245416.0   \n",
       "2         0.0     0.0  ...   277378.0  159812.0   423992.0   409564.0   \n",
       "3         0.0     0.0  ...      240.0      46.0       58.0       44.0   \n",
       "4         0.0     0.0  ...   622012.0  229790.0   405298.0   347188.0   \n",
       "...       ...     ...  ...        ...       ...        ...        ...   \n",
       "59995     0.0     0.0  ...   998500.0  566884.0  1290398.0  1218244.0   \n",
       "59996     0.0     0.0  ...    10578.0    6760.0    21126.0    68424.0   \n",
       "59997     0.0     0.0  ...      792.0     386.0      452.0      144.0   \n",
       "59998     0.0     0.0  ...   699352.0  222654.0   347378.0   225724.0   \n",
       "59999     0.0     0.0  ...   440066.0  183200.0   344546.0   254068.0   \n",
       "\n",
       "          ee_006    ee_007    ee_008    ee_009  ef_000  eg_000  \n",
       "0       339156.0  157956.0   73224.0       0.0     0.0     0.0  \n",
       "1       133654.0   81140.0   97576.0    1500.0     0.0     0.0  \n",
       "2       320746.0  158022.0   95128.0     514.0     0.0     0.0  \n",
       "3           10.0       0.0       0.0       0.0     4.0    32.0  \n",
       "4       286954.0  311560.0  433954.0    1218.0     0.0     0.0  \n",
       "...          ...       ...       ...       ...     ...     ...  \n",
       "59995  1019768.0  717762.0  898642.0   28588.0     0.0     0.0  \n",
       "59996      136.0       0.0       0.0       0.0     0.0     0.0  \n",
       "59997      146.0    2622.0       0.0       0.0     0.0     0.0  \n",
       "59998   194440.0  165070.0  802280.0  388422.0     0.0     0.0  \n",
       "59999   225148.0  158304.0  170384.0     158.0     0.0     0.0  \n",
       "\n",
       "[60000 rows x 171 columns]>"
      ]
     },
     "execution_count": 22,
     "metadata": {},
     "output_type": "execute_result"
    }
   ],
   "source": [
    "aps_df.describe"
   ]
  },
  {
   "cell_type": "markdown",
   "id": "fda9a4ac",
   "metadata": {},
   "source": [
    "# <header style=\"color:Darkgreen;\"> Visualization: </header>"
   ]
  },
  {
   "cell_type": "markdown",
   "id": "ee828c3e",
   "metadata": {},
   "source": [
    "To do visualization at the begining I wanted to do a Boxplot: "
   ]
  },
  {
   "cell_type": "code",
   "execution_count": 23,
   "id": "8caed58e",
   "metadata": {},
   "outputs": [
    {
     "data": {
      "text/plain": [
       "<Axes: >"
      ]
     },
     "execution_count": 23,
     "metadata": {},
     "output_type": "execute_result"
    },
    {
     "data": {
      "image/png": "[encoded data removed]",
      "text/plain": [
       "<Figure size 640x480 with 1 Axes>"
      ]
     },
     "metadata": {},
     "output_type": "display_data"
    }
   ],
   "source": [
    "sns.boxplot(data=aps_df)"
   ]
  },
  {
   "cell_type": "markdown",
   "id": "8a7dd4fb",
   "metadata": {},
   "source": [
    "The line inside the box reppresent the median of the data that was extracted before in the function. This gives us the idea of the simmetry of the data and we can see that the data shift to one direction. The data needs to have a contest to have a meaning "
   ]
  },
  {
   "cell_type": "markdown",
   "id": "7724c315",
   "metadata": {},
   "source": [
    "After thinking of the scenario I wanted to show that are the negative and the positive values of the \"class\". To do so I have identified the class with the \"value_counts\". Thanks to this formula I was able to highlite:\n",
    "- 0 that stand for the negative values \n",
    "- 1 that standes for the positive values.\n",
    "\n",
    "After I was able to create an histogram to visualize this data: "
   ]
  },
  {
   "cell_type": "code",
   "execution_count": 26,
   "id": "b396e866",
   "metadata": {},
   "outputs": [
    {
     "name": "stdout",
     "output_type": "stream",
     "text": [
      "neg    59000\n",
      "pos     1000\n",
      "Name: class, dtype: int64\n"
     ]
    }
   ],
   "source": [
    "print(aps_df[\"class\"].value_counts())"
   ]
  },
  {
   "cell_type": "code",
   "execution_count": 27,
   "id": "1595f1a8",
   "metadata": {},
   "outputs": [
    {
     "name": "stdout",
     "output_type": "stream",
     "text": [
      "neg    59000\n",
      "pos     1000\n",
      "Name: class, dtype: int64\n"
     ]
    }
   ],
   "source": [
    "class_counts = aps_df[\"class\"].value_counts()\n",
    "print(class_counts)\n"
   ]
  },
  {
   "cell_type": "code",
   "execution_count": 39,
   "id": "4c3b1de8",
   "metadata": {},
   "outputs": [
    {
     "data": {
      "image/png": "[encoded data removed]",
      "text/plain": [
       "<Figure size 600x400 with 1 Axes>"
      ]
     },
     "metadata": {},
     "output_type": "display_data"
    }
   ],
   "source": [
    "plt.figure(figsize=(6, 4))\n",
    "class_counts.plot(kind='bar', color=['red', 'green'])\n",
    "plt.xlabel('Class')\n",
    "plt.ylabel('Amount')\n",
    "plt.title('Aps Failure')\n",
    "plt.xticks(range(len(class_counts.index)), ['Negative', 'Positive'], rotation=0)\n",
    "plt.legend(['negative not related APS'])\n",
    "plt.show()"
   ]
  },
  {
   "cell_type": "markdown",
   "id": "a5248aef",
   "metadata": {},
   "source": [
    "# PCA:"
   ]
  },
  {
   "cell_type": "markdown",
   "id": "4ff564d4",
   "metadata": {},
   "source": [
    "In order to keep with PCA I need to transform the Class feature into 0 so I can keep cleaning the data "
   ]
  },
  {
   "cell_type": "code",
   "execution_count": null,
   "id": "4f172045",
   "metadata": {},
   "outputs": [],
   "source": [
    "from sklearn.preprocessing import LabelEncoder\n",
    "L_encoder = LabelEncoder()\n",
    "aps_df[\"class\"]=L_encoder.fit_transform(aps_df[\"class\"])\n",
    "aps_df.head()"
   ]
  },
  {
   "cell_type": "markdown",
   "id": "22b0bcef",
   "metadata": {},
   "source": [
    "Here there is not included the target variable so we need to remove because. The target variable here is \"Class\" that we need to drop:"
   ]
  },
  {
   "cell_type": "code",
   "execution_count": null,
   "id": "df3e2b38",
   "metadata": {},
   "outputs": [],
   "source": [
    "aps_no_label = aps_df.drop(columns=[\"class\"])"
   ]
  },
  {
   "cell_type": "code",
   "execution_count": null,
   "id": "b1f5ef32",
   "metadata": {},
   "outputs": [],
   "source": [
    "aps_no_label.head()"
   ]
  },
  {
   "cell_type": "markdown",
   "id": "09aa1fa9",
   "metadata": {},
   "source": [
    "To see establish how many feauters I need to retain to have the 99.5 % variance data:"
   ]
  },
  {
   "cell_type": "code",
   "execution_count": null,
   "id": "3402f142",
   "metadata": {},
   "outputs": [],
   "source": [
    "from sklearn.decomposition import PCA"
   ]
  },
  {
   "cell_type": "code",
   "execution_count": null,
   "id": "16d6eb2f",
   "metadata": {},
   "outputs": [],
   "source": [
    "pca = PCA().fit(aps_no_label) \n",
    "plt.plot(np.cumsum(pca.explained_variance_ratio_)) \n",
    "plt.xlabel('number of components') \n",
    "plt.ylabel('cumulative explained variance');\n",
    "plt.axhline(0.9950,color= \"orangered\",alpha=.5,ls=\"--\")\n",
    "plt.axvline(2,color= \"orangered\",alpha=.5,ls=\"--\");"
   ]
  },
  {
   "cell_type": "markdown",
   "id": "aa30444d",
   "metadata": {},
   "source": [
    "To retain 99.5% variance data fromt the graphic I understand that I need to keep 5 features ( number from the graphic because it is beetween 0 and 25 so it looks 10 to have the asked variance)and after I can transform the data: "
   ]
  },
  {
   "cell_type": "code",
   "execution_count": null,
   "id": "68cf3243",
   "metadata": {},
   "outputs": [],
   "source": [
    "pca = PCA(5)\n",
    "projected = pca.fit_transform(aps_no_label)"
   ]
  },
  {
   "cell_type": "code",
   "execution_count": null,
   "id": "0bed25db",
   "metadata": {},
   "outputs": [],
   "source": [
    "projected.shape"
   ]
  },
  {
   "cell_type": "code",
   "execution_count": null,
   "id": "6baf8668",
   "metadata": {},
   "outputs": [],
   "source": [
    "projected"
   ]
  },
  {
   "cell_type": "markdown",
   "id": "696c886a",
   "metadata": {},
   "source": [
    "To see how this looks like I transform in a dataframe where I call the features: C1 and C2 so far so on to arrive to 5 features, the reason why if because it doesn't mean anything.  "
   ]
  },
  {
   "cell_type": "code",
   "execution_count": null,
   "id": "6b4eafb2",
   "metadata": {},
   "outputs": [],
   "source": [
    "aps_pca = pd.DataFrame(projected, columns =['C1', 'C2','C3','C4','C5'])"
   ]
  },
  {
   "cell_type": "markdown",
   "id": "4522a32a",
   "metadata": {},
   "source": [
    "after I will add again my target variable because the 10 variable is what it referes for: "
   ]
  },
  {
   "cell_type": "code",
   "execution_count": null,
   "id": "5f9bb267",
   "metadata": {},
   "outputs": [],
   "source": [
    "aps_pca[\"class\"] = aps_df[\"class\"]"
   ]
  },
  {
   "cell_type": "code",
   "execution_count": null,
   "id": "d91f0f21",
   "metadata": {},
   "outputs": [],
   "source": [
    "aps_pca.head()"
   ]
  },
  {
   "cell_type": "markdown",
   "id": "0d5d1e24",
   "metadata": {},
   "source": [
    "# <header style=\"color:Darkgreen;\"> Curse of Dimentionality: </header>"
   ]
  },
  {
   "cell_type": "markdown",
   "id": "649ce317",
   "metadata": {},
   "source": [
    "The curse of dimentionality is when we don't have enought observation but enought features. In order to extract the patter in the data we will need to reduce the feautres to have more observations to find the path in the data itself. In order to do so we apply PCA to our dataset after the cleanign phase of EDA. In this case we have dropped the feature \"Class\" in order to perform PCA. To do so before we needed to transform the feature from an Object to an integer. This is necessary to after strat to train the data to start applying machine learning. "
   ]
  },
  {
   "cell_type": "markdown",
   "id": "0ea29263",
   "metadata": {},
   "source": [
    "# Conclusions:\n",
    "\n",
    "At the beggining we analized our dataset and we have noticed that we didn't have any missing values but we had in some columns \"NA\" so it means due that it is not a value this could compromise our analisis. To solve this issue we analized the unique values and we sum them up. After we dropped the columns that were having more than 10 % missing values and fill them with the mediam. After cleaning our data we were able to visualize them in order to see the pattern in the data.\n",
    "\n",
    "After we replaced in the column \" class\" with values in order to drop and perform PCA. \n",
    "\n",
    "From here we were able to perfoming PCA to see how much we need to drop to find the pattern in the datas."
   ]
  },
  {
   "cell_type": "markdown",
   "id": "e41a3882",
   "metadata": {},
   "source": [
    "# References"
   ]
  },
  {
   "cell_type": "markdown",
   "id": "0f123742",
   "metadata": {},
   "source": [
    "1- Kallepalliravi. “Python: Finding Missing Values in a Data Frame.” Medium, 19 Aug. 2020, medium.com/analytics-vidhya/python-finding-missing-values-in-a-data-frame-3030aaf0e4fd.\n",
    "\n",
    "2- Matplotlib. “Matplotlib: Python Plotting — Matplotlib 3.1.1 Documentation.” Matplotlib.org, 2012, matplotlib.org/.\n",
    "\n",
    "3- Numpy. “NumPy.” Numpy.org, 2009, numpy.org/.\n",
    "\n",
    "4- Pandas. “Python Data Analysis Library — Pandas: Python Data Analysis Library.” Pydata.org, 2018, pandas.pydata.org/.\n",
    "\n",
    "5- scikit-learn. “Scikit-Learn: Machine Learning in Python.” Scikit-Learn.org, 2019, scikit-learn.org/stable/.\n",
    "\n",
    "6- seaborn. “Seaborn: Statistical Data Visualization — Seaborn 0.9.0 Documentation.” Pydata.org, 2012, seaborn.pydata.org/.\n",
    "\n",
    "7- Riederer, Yihui Xie, Christophe Dervieux, Emily. 5.1 Font Color | R Markdown Cookbook. Bookdown.org, bookdown.org/yihui/rmarkdown-cookbook/font-color.html.\n",
    "\n",
    "8- “How to Disable Python Warnings?” Stack Overflow, stackoverflow.com/questions/14463277/how-to-disable-python-warnings. \n",
    "\n",
    "9- UrmishaEduWorld. “Drop Columns Where Percentage of Missing Values Is Greater than 50% in Python.” Www.youtube.com, UrmishaEduWorld, 24 May 2022, www.youtube.com/watch?v=ziv2o_POO0A. Accessed 29 Oct. 2023. \n",
    "\n",
    "10- “Working with Missing Data in Pandas.” GeeksforGeeks, 3 Jan. 2019, www.geeksforgeeks.org/working-with-missing-data-in-pandas/. "
   ]
  },
  {
   "cell_type": "code",
   "execution_count": null,
   "id": "f9edf157",
   "metadata": {},
   "outputs": [],
   "source": []
  }
 ],
 "metadata": {
  "kernelspec": {
   "display_name": "Python 3 (ipykernel)",
   "language": "python",
   "name": "python3"
  },
  "language_info": {
   "codemirror_mode": {
    "name": "ipython",
    "version": 3
   },
   "file_extension": ".py",
   "mimetype": "text/x-python",
   "name": "python",
   "nbconvert_exporter": "python",
   "pygments_lexer": "ipython3",
   "version": "3.11.4"
  }
 },
 "nbformat": 4,
 "nbformat_minor": 5
}
